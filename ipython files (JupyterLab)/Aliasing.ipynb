{
 "cells": [
  {
   "cell_type": "code",
   "execution_count": 1,
   "metadata": {},
   "outputs": [],
   "source": [
    "import numpy\n",
    "import matplotlib.pyplot as plt"
   ]
  },
  {
   "cell_type": "code",
   "execution_count": 2,
   "metadata": {},
   "outputs": [],
   "source": [
    "from ipywidgets import interact, Checkbox"
   ]
  },
  {
   "cell_type": "code",
   "execution_count": 3,
   "metadata": {},
   "outputs": [],
   "source": [
    "t = numpy.linspace(0, 100, 1000)\n",
    "y = numpy.sin(t)"
   ]
  },
  {
   "cell_type": "code",
   "execution_count": 4,
   "metadata": {},
   "outputs": [],
   "source": [
    "def show_sampled(T=numpy.pi, show_f=True):\n",
    "    t_sampled = numpy.arange(0, numpy.max(t), T)\n",
    "    y_sampled = numpy.sin(t_sampled)\n",
    "\n",
    "    if show_f:\n",
    "        plt.plot(t, y)\n",
    "    plt.scatter(t_sampled, y_sampled)\n",
    "    plt.axis([0, numpy.max(t), -1.1, 1.1])"
   ]
  },
  {
   "cell_type": "code",
   "execution_count": 7,
   "metadata": {},
   "outputs": [
    {
     "data": {
      "application/vnd.jupyter.widget-view+json": {
       "model_id": "328efed4172244f9bb27b30979d589ac",
       "version_major": 2,
       "version_minor": 0
      },
      "text/plain": [
       "interactive(children=(FloatSlider(value=3.141592653589793, description='T', max=10.0, min=0.1, step=0.0001), C…"
      ]
     },
     "metadata": {},
     "output_type": "display_data"
    }
   ],
   "source": [
    "interact(show_sampled, T=(0.1, 10, 0.0001), show_f=Checkbox(True));"
   ]
  },
  {
   "cell_type": "markdown",
   "metadata": {},
   "source": [
    "We can avoid aliasing by ensuring that we sample at least twice per cycle for the highest frequency in the signal we are sampling.\n",
    "Remember:\n",
    "\n",
    "omega_max = 1; omega_N = pi/Ts > omega_max = 1 ==> Ts < pi = period T/2 (T = 2 pi/omega_max = 2 pi)"
   ]
  }
 ],
 "metadata": {
  "anaconda-cloud": {},
  "kernelspec": {
   "display_name": "Python 3",
   "language": "python",
   "name": "python3"
  },
  "language_info": {
   "codemirror_mode": {
    "name": "ipython",
    "version": 3
   },
   "file_extension": ".py",
   "mimetype": "text/x-python",
   "name": "python",
   "nbconvert_exporter": "python",
   "pygments_lexer": "ipython3",
   "version": "3.6.9"
  }
 },
 "nbformat": 4,
 "nbformat_minor": 4
}
